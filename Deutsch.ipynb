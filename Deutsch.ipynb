{
 "cells": [
  {
   "cell_type": "code",
   "execution_count": 31,
   "metadata": {},
   "outputs": [
    {
     "name": "stdout",
     "output_type": "stream",
     "text": [
      "Function number is:  0\n",
      "Function is constant.\n"
     ]
    }
   ],
   "source": [
    "from qutip import *\n",
    "import numpy as np\n",
    "import math\n",
    "import random\n",
    "z0 = basis(2,0)\n",
    "z1 = basis(2,1)\n",
    "# We have a random choice for the function.\n",
    "a=random.randint(0,3)\n",
    "if a==0:\n",
    "    op=tensor(identity(2),identity(2))\n",
    "elif a==1:\n",
    "    op=cnot()\n",
    "elif a==2:\n",
    "    op=tensor(identity(2),sigmax())*cnot()\n",
    "else:\n",
    "    op=tensor(identity(2),sigmax())\n",
    "# Apply the Deutsch algorithm.\n",
    "st=tensor(snot(),snot())*op*tensor(snot(),snot())*tensor(z0,z1)\n",
    "# Do the measurement on the first qubit at the end.\n",
    "M0=tensor(z0*z0.dag(),identity(2))\n",
    "M1=tensor(z1*z1.dag(),identity(2))\n",
    "pr0=((M0*st).norm())**2\n",
    "pr1=((M1*st).norm())**2\n",
    "print(\"Function number is: \",a)\n",
    "# Generate a random number.\n",
    "rnd=random.random()\n",
    "# Give a result according to the probability distribution.\n",
    "if pr0>rnd:\n",
    "    print(\"Function is constant.\")\n",
    "else:\n",
    "    print(\"Function is balanced.\")"
   ]
  }
 ],
 "metadata": {
  "anaconda-cloud": {},
  "kernelspec": {
   "display_name": "Python 3",
   "language": "python",
   "name": "python3"
  },
  "language_info": {
   "codemirror_mode": {
    "name": "ipython",
    "version": 3
   },
   "file_extension": ".py",
   "mimetype": "text/x-python",
   "name": "python",
   "nbconvert_exporter": "python",
   "pygments_lexer": "ipython3",
   "version": "3.6.1"
  }
 },
 "nbformat": 4,
 "nbformat_minor": 1
}
