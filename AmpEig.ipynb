{
 "cells": [
  {
   "cell_type": "code",
   "execution_count": 2,
   "metadata": {},
   "outputs": [],
   "source": [
    "from qutip import *\n",
    "import numpy as np\n",
    "import math\n",
    "import random\n",
    "z0 = basis(2,0)\n",
    "z1 = basis(2,1)"
   ]
  },
  {
   "cell_type": "code",
   "execution_count": 28,
   "metadata": {},
   "outputs": [
    {
     "data": {
      "text/plain": [
       "array([1.02695630e-15-2.4785564j , 4.99600361e-16+2.4785564j ,\n",
       "       5.82867088e-16-0.66303625j, 6.10622664e-16+0.66303625j])"
      ]
     },
     "execution_count": 28,
     "metadata": {},
     "output_type": "execute_result"
    }
   ],
   "source": [
    "cU=tensor(z0*z0.dag(),sigmax())+tensor(z1*z1.dag(),sigmay())\n",
    "a=0.7\n",
    "b=1.2\n",
    "rot=(a*z0*z0.dag()+b*z1*z0.dag()+b*z0*z1.dag()-a*z1*z1.dag())/np.sqrt(a**2+b**2)\n",
    "rot=tensor(rot,identity(2))\n",
    "U=rot.dag()*cU*rot\n",
    "R=tensor(sigmaz(),identity(2))\n",
    "np.log((R*U).eigenenergies())"
   ]
  },
  {
   "cell_type": "code",
   "execution_count": 29,
   "metadata": {},
   "outputs": [
    {
     "data": {
      "text/plain": [
       "array([2.4785564 , 0.66303625])"
      ]
     },
     "execution_count": 29,
     "metadata": {},
     "output_type": "execute_result"
    }
   ],
   "source": [
    "np.arccos((a**2*sigmax()+b**2*sigmay()).eigenenergies()/(a**2+b**2))"
   ]
  },
  {
   "cell_type": "code",
   "execution_count": null,
   "metadata": {},
   "outputs": [],
   "source": []
  }
 ],
 "metadata": {
  "kernelspec": {
   "display_name": "Python 3",
   "language": "python",
   "name": "python3"
  },
  "language_info": {
   "codemirror_mode": {
    "name": "ipython",
    "version": 3
   },
   "file_extension": ".py",
   "mimetype": "text/x-python",
   "name": "python",
   "nbconvert_exporter": "python",
   "pygments_lexer": "ipython3",
   "version": "3.8.5"
  }
 },
 "nbformat": 4,
 "nbformat_minor": 2
}
