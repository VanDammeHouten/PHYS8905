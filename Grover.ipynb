{
 "cells": [
  {
   "cell_type": "code",
   "execution_count": 10,
   "metadata": {},
   "outputs": [
    {
     "name": "stdout",
     "output_type": "stream",
     "text": [
      "Function number:  1\n",
      "Measurment result:  1\n"
     ]
    }
   ],
   "source": [
    "from qutip import *\n",
    "import numpy as np\n",
    "import math\n",
    "import random\n",
    "z0 = basis(2,0)\n",
    "z1 = basis(2,1)\n",
    "# Set the initial state.\n",
    "state=tensor(z0,z0,z1)\n",
    "# Set the four possible functions.\n",
    "f00=tensor(sigmax(),sigmax(),identity(2))*toffoli()*tensor(sigmax(),sigmax(),identity(2))\n",
    "f01=tensor(sigmax(),identity(2),identity(2))*toffoli()*tensor(sigmax(),identity(2),identity(2))\n",
    "f10=tensor(identity(2),sigmax(),identity(2))*toffoli()*tensor(identity(2),sigmax(),identity(2))\n",
    "f11=toffoli()\n",
    "# Choose one of the functions at random.\n",
    "a=random.randint(0,3)\n",
    "if a==0:\n",
    "    op=f00\n",
    "elif a==1:\n",
    "    op=f01\n",
    "elif a==2:\n",
    "    op=f10\n",
    "else:\n",
    "    op=f11\n",
    "# Perform the first step of the algorithm running the function oracle.\n",
    "state=tensor(identity(2),identity(2),snot())*op*tensor(snot(),snot(),snot())*state\n",
    "# Do the reflection about the equal superposition state.\n",
    "state=tensor(snot(),snot(),snot())*f00*tensor(snot(),snot(),snot())*state\n",
    "# Measure the resulting state to determine the answer.\n",
    "prj0=tensor(tensor(z0,z0)*tensor(z0,z0).dag(),identity(2))\n",
    "prj1=tensor(tensor(z0,z1)*tensor(z0,z1).dag(),identity(2))\n",
    "prj2=tensor(tensor(z1,z0)*tensor(z1,z0).dag(),identity(2))\n",
    "prj3=tensor(tensor(z1,z1)*tensor(z1,z1).dag(),identity(2))\n",
    "pr0=((prj0*state).norm())**2\n",
    "pr1=((prj1*state).norm())**2\n",
    "pr2=((prj2*state).norm())**2\n",
    "pr3=((prj3*state).norm())**2\n",
    "# Generate a measurement result according to the probabilities.\n",
    "rnd=random.random()\n",
    "if pr0>rnd:\n",
    "    s=0\n",
    "elif pr0+pr1>rnd:\n",
    "    s=1\n",
    "elif pr0+pr1+pr2>rnd:\n",
    "    s=2\n",
    "else:\n",
    "    s=3\n",
    "print(\"Function number: \",a)\n",
    "print(\"Measurment result: \",s)"
   ]
  }
 ],
 "metadata": {
  "anaconda-cloud": {},
  "kernelspec": {
   "display_name": "Python 3",
   "language": "python",
   "name": "python3"
  },
  "language_info": {
   "codemirror_mode": {
    "name": "ipython",
    "version": 3
   },
   "file_extension": ".py",
   "mimetype": "text/x-python",
   "name": "python",
   "nbconvert_exporter": "python",
   "pygments_lexer": "ipython3",
   "version": "3.6.1"
  }
 },
 "nbformat": 4,
 "nbformat_minor": 1
}
