{
 "cells": [
  {
   "cell_type": "markdown",
   "metadata": {},
   "source": [
    "# Question 2\n",
    "\n",
    "## a)\n",
    "\n",
    "$$\n",
    "\\begin{align}\n",
    "\\ket{\\psi} &= \\ket{\\psi}_{AB}\\otimes\\ket{\\psi}_{AB}\\otimes\\ket{\\psi}_{AB}\\\\\n",
    "&= \\cos^{3}{\\theta}\\ket{00}\\ket{00}\\ket{00} + \\sin^{3}{\\theta}\\ket{11}\\ket{11}\\ket{11}\\\\\n",
    "&+ \\cos^{2}{\\theta}\\sin{\\theta}(\\ket{00}\\ket{00}\\ket{11} +\\ket{00}\\ket{11}\\ket{00} + \\ket{11}\\ket{00}\\ket{00})\\\\\n",
    "&+ \\sin^{2}{\\theta}\\cos{\\theta}(\\ket{11}\\ket{00}\\ket{11} +\\ket{00}\\ket{11}\\ket{11} + \\ket{11}\\ket{11}\\ket{00})\n",
    "\\end{align}\n",
    "$$"
   ]
  },
  {
   "cell_type": "markdown",
   "metadata": {},
   "source": [
    "To seperate the terms we create a set of measurement apparatus with four operators $M_m$ which will seperate out the 3 terms with the 4th ensuring probablities sum to 1 for arbituary states."
   ]
  },
  {
   "cell_type": "markdown",
   "metadata": {},
   "source": [
    "$$\n",
    "\\begin{align}\n",
    "M_0 &= \\ket{00}\\ket{00}\\ket{00}\\bra{00}\\bra{00}\\bra{00} + \\ket{11}\\ket{11}\\ket{11}\\bra{11}\\bra{11}\\bra{11}\\\\\n",
    "M_1 &= \\ket{00}\\ket{00}\\ket{11}\\bra{00}\\bra{00}\\bra{11} + \\ket{00}\\ket{11}\\ket{00}\\bra{00}\\bra{11}\\bra{00} + \\ket{11}\\ket{00}\\ket{00}\\bra{11}\\bra{00}\\bra{00}\\\\\n",
    "M_2 &= \\ket{00}\\ket{11}\\ket{11}\\bra{00}\\bra{11}\\bra{11} + \\ket{11}\\ket{00}\\ket{11}\\bra{11}\\bra{00}\\bra{11} + \\ket{11}\\ket{11}\\ket{00}\\bra{11}\\bra{11}\\bra{00}\\\\\n",
    "M_3 &= \\sqrt{I - M_0^{\\dagger}M_0 - M_1^{\\dagger}M_1 - M_2^{\\dagger}M_2}\n",
    "\\end{align}\n",
    "$$"
   ]
  },
  {
   "cell_type": "markdown",
   "metadata": {},
   "source": [
    "Applying this measurement apparatus we end up with the following outcomes.\n",
    "$$\\begin{align}\n",
    "\\ket{\\psi}_0 &= M_0\\ket{\\psi} \\\\\n",
    "    &= \\cos^{3}{\\theta}\\ket{00}\\ket{00}\\ket{00} + \\sin^{3}{\\theta}\\ket{11}\\ket{11}\\ket{11}\\\\\n",
    "\\ket{\\psi}_1 &= M_1\\ket{\\psi} \\\\\n",
    "    &= \\cos^{2}{\\theta}\\sin{\\theta}(\\ket{00}\\ket{00}\\ket{11} +\\ket{00}\\ket{11}\\ket{00} + \\ket{11}\\ket{00}\\ket{00})\\\\\n",
    "\\ket{\\psi}_2 &= M_2\\ket{\\psi} \\\\\n",
    "    &= \\sin^{2}{\\theta}\\cos{\\theta}(\\ket{11}\\ket{00}\\ket{11} +\\ket{00}\\ket{11}\\ket{11} + \\ket{11}\\ket{11}\\ket{00})\\\\\n",
    "\\ket{\\psi}_0 &= M_3\\ket{\\psi} \\\\\n",
    "    &= 0\n",
    "\\end{align}$$\n",
    "\n",
    "The probablities of each of the outcomes are:\n",
    "$$\\begin{align}\n",
    "\\mathrm{Pr}(0) &= \\cos^{6} +\\sin^{6}\\\\\n",
    "\\mathrm{Pr}(1) &= 3\\cos^{4}{\\theta}\\sin^{2}{\\theta}\n",
    "\\mathrm{Pr}(2) &= 3\\cos^{2}{\\theta}\\sin^{4}{\\theta}\n",
    "\\mathrm{Pr}(3) &= 0\n",
    "\\end{align}$$\n",
    "\n",
    "As we have designed the apparatus the fourth outcome will never occur. The normalised states are given by:\n",
    "\n",
    "$$\\begin{align}\n",
    "\\ket{\\psi}_0 &= \\frac{1}{\\sqrt{\\cos^{6} +\\sin^{6}}}(\\cos^{3}{\\theta}\\ket{00}\\ket{00}\\ket{00} + \\sin^{3}{\\theta}\\ket{11}\\ket{11}\\ket{11})\\\\\n",
    "\\ket{\\psi}_1 &= \\frac{1}{\\sqrt{3}\\cos^{2}{\\theta}\\sin{\\theta}}\\cos^{2}{\\theta}\\sin{\\theta}(\\ket{00}\\ket{00}\\ket{11} +\\ket{00}\\ket{11}\\ket{00} + \\ket{11}\\ket{00}\\ket{00})\\\\\n",
    "    &= \\frac{1}{\\sqrt{3}}(\\ket{00}\\ket{00}\\ket{11} +\\ket{00}\\ket{11}\\ket{00} + \\ket{11}\\ket{00}\\ket{00})\\\\\n",
    "\\ket{\\psi}_1 &= \\frac{1}{\\sqrt{3}\\cos{\\theta}\\sin^{2}{\\theta}}\\sin^{2}{\\theta}\\cos{\\theta}(\\ket{11}\\ket{00}\\ket{11} +\\ket{00}\\ket{11}\\ket{11} + \\ket{11}\\ket{11}\\ket{00})\\\\\n",
    "    &= \\frac{1}{\\sqrt{3}}(\\ket{11}\\ket{00}\\ket{11} +\\ket{00}\\ket{11}\\ket{11} + \\ket{11}\\ket{11}\\ket{00}\\\\\n",
    "\\end{align}$$\n",
    "Therefore outcomes 1 \\& 2 are maximally entangled on dimension 3. The outcome of the $M_0$ is not maximally entangled but can be improved with Procrustean distillation. We design an additional measurement apparatus with two measurements ${MP}_{n}$.\n",
    "\n",
    "$$\\begin{align}\n",
    "{MP}_1 &= \\sqrt{\\mathrm{Pr}(0)}(\\tan^{3}{\\theta}\\ket{00}\\ket{00}\\ket{00} + \\ket{11}\\ket{11}\\ket{11})\\\\\n",
    "    &=  \\sqrt{\\cos^{6} +\\sin^{6}}(\\tan^{3}{\\theta}\\ket{00}\\ket{00}\\ket{00} + \\ket{11}\\ket{11}\\ket{11})\\\\\n",
    "{MP}_0 &= \\sqrt{I - {MP}_1^{\\dagger}{MP}_0}\n",
    "\\end{align}$$\n",
    "\n",
    "We calculate the probabalites of success and the normalised state on success. If failure occurs we disregard the result.\n",
    "\n",
    "$$\\begin{align}\n",
    "\\ket{\\psi}_{01} &= {MP}_1\\ket{\\psi}_0 \\\\\n",
    "    &= \\tan^{3}{\\theta}\\cos^{3}{\\theta}\\ket{00}\\ket{00}\\ket{00} + \\sin^{3}{\\theta}\\ket{11}\\ket{11}\\ket{11}\\\\\n",
    "    &= \\sin^{3}{\\theta}(\\ket{00}\\ket{00}\\ket{00} + \\ket{11}\\ket{11}\\ket{11})\\\\\n",
    "\\mathrm{Pr}(01) &= 2\\sin^{6}{\\theta}\\\\\n",
    "\\ket{\\psi}_{01} &= \\frac{1}{\\sqrt{2\\sin^{6}{\\theta}}}\\sin^{3}{\\theta}(\\ket{00}\\ket{00}\\ket{00} + \\ket{11}\\ket{11}\\ket{11})\\\\\n",
    "    &= \\frac{1}{\\sqrt{2}}(\\ket{00}\\ket{00}\\ket{00} + \\ket{11}\\ket{11}\\ket{11})\\\\\n",
    "\\end{align}$$\n",
    " Which is a maximally entangled state. "
   ]
  },
  {
   "cell_type": "markdown",
   "metadata": {},
   "source": [
    "## b)"
   ]
  },
  {
   "cell_type": "code",
   "execution_count": 1,
   "metadata": {},
   "outputs": [],
   "source": [
    "from qutip import *\n",
    "import numpy as np\n",
    "import matplotlib.pyplot as plt\n"
   ]
  },
  {
   "cell_type": "markdown",
   "metadata": {},
   "source": [
    "Define the computational basis"
   ]
  },
  {
   "cell_type": "code",
   "execution_count": 2,
   "metadata": {},
   "outputs": [],
   "source": [
    "zero_k=basis(2,0)\n",
    "one_k=basis(2,1)\n",
    "zzero_k=tensor(zero_k,zero_k)\n",
    "oone_k=tensor(one_k,one_k)\n",
    "zzero_d = zzero_k*zzero_k.dag()\n",
    "oone_d = oone_k*oone_k.dag()"
   ]
  },
  {
   "cell_type": "markdown",
   "metadata": {},
   "source": [
    "Define the measurement operators. No need for 4th as it has 0 probability for all $\\theta$."
   ]
  },
  {
   "cell_type": "code",
   "execution_count": 220,
   "metadata": {},
   "outputs": [],
   "source": [
    "M0 = tensor(zzero_d,zzero_d,zzero_d) +\\\n",
    "    tensor(oone_d,oone_d,oone_d)\n",
    "\n",
    "M1 = tensor(zzero_d,zzero_d,oone_d) +\\\n",
    "    tensor(zzero_d,oone_d,zzero_d) +\\\n",
    "    tensor(oone_d,zzero_d,zzero_d)\n",
    "\n",
    "M2 = tensor(zzero_d,oone_d,oone_d) +\\\n",
    "    tensor(oone_d,oone_d,zzero_d) +\\\n",
    "    tensor(oone_d,zzero_d,oone_d)\n",
    "\n"
   ]
  },
  {
   "cell_type": "code",
   "execution_count": 218,
   "metadata": {},
   "outputs": [
    {
     "name": "stdout",
     "output_type": "stream",
     "text": [
      "1.584962500721156\n"
     ]
    }
   ],
   "source": [
    "\n",
    "theta = np.linspace(0,np.pi/4,65)\n",
    "theta = np.delete(theta,0)\n",
    "E0 = np.zeros(theta.shape)\n",
    "E1 = np.zeros([5,theta.size])\n",
    "P = np.zeros([5,theta.size])\n",
    "for n in range(theta.size):\n",
    "    #form density matrix for given theta\n",
    "    psiAB = np.cos(theta[n])*zzero_k+ np.sin(theta[n])*oone_k\n",
    "\n",
    "\n",
    "\n",
    "    #form 3 state system\n",
    "    psi = tensor(psiAB,psiAB,psiAB)\n",
    "\n",
    "\n",
    "    #Calculate entropy before distillation\n",
    "    E0[n] = entropy_vn(psi.ptrace([1,3,5]),2)\n",
    "\n",
    "    # Perform measurement \n",
    "    psi_0 = (M0*psi)\n",
    "    psi_1 = (M1*psi)\n",
    "    psi_2 = (M2*psi)\n",
    "    # Calculate probablities\n",
    "    p = np.array([psi_0.dag()*psi_0,psi_1.dag()*psi_1,psi_2.dag()*psi_2]).squeeze()\n",
    "    #Normalise state\n",
    "    psi_0 = psi_0/np.sqrt(p[0])\n",
    "    psi_1 = psi_1/np.sqrt(p[1])\n",
    "    psi_2 = psi_2/np.sqrt(p[2])\n",
    "    # Form Procrustean measurement \n",
    "    Mpro1 = np.sqrt(p[0])*(np.power(np.tan(theta[n]),3)*tensor(zzero_d,zzero_d,zzero_d) + tensor(oone_d,oone_d,oone_d))\n",
    "    Mpro0 = (identity([2, 2, 2, 2, 2, 2]) - Mpro1*Mpro1.dag()).sqrtm()\n",
    "\n",
    "    #Remeasure first outcome\n",
    "    psi_3 = Mpro0*psi_0\n",
    "    psi_4 = Mpro1*psi_0\n",
    "\n",
    "    #Store probabilities\n",
    "    P[:,n] = np.append(p,[psi_3.dag()*psi_3,psi_4.dag()*psi_4]).real\n",
    "\n",
    "    psi_3 = psi_3/np.sqrt(P[3,n] )\n",
    "    psi_4 = psi_4/np.sqrt(P[4,n] )\n",
    "\n",
    "    # Calculate entropy for each of the states\n",
    "    E1[:,n] = [entropy_vn(psi_0.ptrace([1,3,5]),2),\\\n",
    "        entropy_vn(psi_1.ptrace([1,3,5]),2),\\\n",
    "        entropy_vn(psi_2.ptrace([1,3,5]),2),\\\n",
    "        entropy_vn(psi_3.ptrace([1,3,5]),2),\\\n",
    "        entropy_vn(psi_4.ptrace([1,3,5]),2)]\n",
    "\n",
    "\n",
    "# Calculate entropy of goal state\n",
    "goal = (tensor(zzero_k,zzero_k,oone_k) + tensor(zzero_k,oone_k,zzero_k) + tensor(oone_k,zzero_k,zzero_k))/np.sqrt(3)\n",
    "print(entropy_vn(goal.ptrace([0,1,2]),2))\n",
    "\n",
    "\n",
    "\n",
    "\n",
    "    \n",
    "\n",
    "\n"
   ]
  },
  {
   "cell_type": "code",
   "execution_count": 232,
   "metadata": {},
   "outputs": [
    {
     "data": {
      "image/png": "[encoded data removed]",
      "text/plain": [
       "<Figure size 432x288 with 1 Axes>"
      ]
     },
     "metadata": {
      "needs_background": "light"
     },
     "output_type": "display_data"
    },
    {
     "data": {
      "image/png": "[encoded data removed]",
      "text/plain": [
       "<Figure size 432x288 with 1 Axes>"
      ]
     },
     "metadata": {
      "needs_background": "light"
     },
     "output_type": "display_data"
    }
   ],
   "source": [
    "\n",
    "\n",
    "plt.plot(theta,E0,label=\"Initial\")\n",
    "plt.plot(theta,E1[0,:],label=r'$M_{0}$')\n",
    "plt.plot(theta,E1[1,:],label=r'$M_{1}$')\n",
    "plt.plot(theta,E1[2,:],label=r'$M_{2}$')\n",
    "plt.plot(theta,E1[3,:],label=r'$M_{0}{MP}_{0}$')\n",
    "plt.plot(theta,E1[4,:],label=r'$M_{0}{MP}_{1}$')\n",
    "\n",
    "plt.ylabel('Entropy')\n",
    "plt.xlabel(r'$\\theta$')\n",
    "plt.legend(loc=\"upper left\")\n",
    "plt.show()\n",
    "\n",
    "\n",
    "plt.plot(theta,P[0,:],label=r'$P_{0}$')\n",
    "plt.plot(theta,P[1,:],label=r'$P_{1}$')\n",
    "plt.plot(theta,P[2,:],label=r'$P_{2}$')\n",
    "plt.plot(theta,P[3,:],label=r'$P_{p_0}$')\n",
    "plt.plot(theta,P[4,:],label=r'$P_{p_1}$')\n",
    "\n",
    "plt.ylabel('Probability')\n",
    "plt.xlabel(r'$\\theta$')\n",
    "plt.legend(loc=\"upper left\")\n",
    "plt.show()\n"
   ]
  },
  {
   "cell_type": "markdown",
   "metadata": {},
   "source": [
    "# Question 3"
   ]
  },
  {
   "cell_type": "code",
   "execution_count": 176,
   "metadata": {},
   "outputs": [],
   "source": [
    "A2 = sigmax()\n",
    "A1 = sigmaz()\n",
    "B1 = (A1+A2)/np.sqrt(2)\n",
    "B2 = (A1-A2)/np.sqrt(2)\n",
    "\n"
   ]
  },
  {
   "cell_type": "markdown",
   "metadata": {},
   "source": [
    "## a) \n",
    "The eigenvalues of Alice's measurement settings are:"
   ]
  },
  {
   "cell_type": "code",
   "execution_count": 177,
   "metadata": {},
   "outputs": [
    {
     "name": "stdout",
     "output_type": "stream",
     "text": [
      "eig(A1) =  [-1.  1.]\n",
      "eig(A2) =  [-1.  1.]\n"
     ]
    }
   ],
   "source": [
    "print(\"eig(A1) = \",A1.eigenenergies())\n",
    "print(\"eig(A2) = \",A2.eigenenergies())"
   ]
  },
  {
   "cell_type": "markdown",
   "metadata": {},
   "source": [
    "Bob's eigenvalues are given by:"
   ]
  },
  {
   "cell_type": "code",
   "execution_count": 178,
   "metadata": {},
   "outputs": [
    {
     "name": "stdout",
     "output_type": "stream",
     "text": [
      "eig(B1) =  [-1.  1.]\n",
      "eig(B2) =  [-1.  1.]\n",
      "Is Alice eig equal to Bob eig =  [ True  True]\n"
     ]
    }
   ],
   "source": [
    "print(\"eig(B1) = \",B1.eigenenergies())\n",
    "print(\"eig(B2) = \",B2.eigenenergies())\n",
    "print(\"Is Alice eig equal to Bob eig = \",A1.eigenenergies()==B1.eigenenergies())"
   ]
  },
  {
   "cell_type": "markdown",
   "metadata": {},
   "source": [
    "## b)\n",
    "The maximum value of the CHSH inequality for quantum mechanical correlations between distant events is known as the Tsirelson bound and is equal to $2\\sqrt{2}$. Where the CHSH inequality is given by:\n",
    "$$\\begin{align}\n",
    "\\langle A_{1}B_{1}\\rangle +\\langle A_{1}B_{2}\\rangle +\\langle A_{2}B_{1}\\rangle -\\langle A_{2}B_{2}\\rangle &\\leq 2{\\sqrt {2}}\n",
    "\\end{align}\n",
    "$$\n",
    "Where $A_1,A_2$ are Alice's observables and $B_1,B_2$ are Bob's observables. We define the following observable:\n",
    "$$\\begin{align}\n",
    "\\beta &= A_{1}B_{1} + A_{1}B_{2} + A_{2}B_{1} -A_{2}B_{2}\n",
    "\\end{align}\n",
    "$$\n",
    "To find the Tsirelson bound we find the maximum eigenenergy of $\\beta$"
   ]
  },
  {
   "cell_type": "code",
   "execution_count": 179,
   "metadata": {},
   "outputs": [
    {
     "name": "stdout",
     "output_type": "stream",
     "text": [
      "The maximum value of the CHSH bound is = 2.82842712474619\n",
      "Is maximum eigenenergy equal to 2*sqrt(2) = False\n"
     ]
    }
   ],
   "source": [
    "C1 = tensor(A1,B1)\n",
    "C2 = tensor(A1,B2)\n",
    "C3 = tensor(A2,B1)\n",
    "C4 = tensor(A2,B2)\n",
    "\n",
    "beta = C1 +C2 +C3 -C4\n",
    "[e,v] = beta.eigenstates()\n",
    "print(\"The maximum value of the CHSH bound is =\", e.max())\n",
    "print(\"Is maximum eigenenergy equal to 2*sqrt(2) =\",e.max()== 2*np.sqrt(2))\n"
   ]
  },
  {
   "cell_type": "markdown",
   "metadata": {},
   "source": [
    "## c)\n",
    "The state that will give the Tsirelson bound is the eigenstate of the maximum eigenenergy of $\\Beta$"
   ]
  },
  {
   "cell_type": "code",
   "execution_count": 180,
   "metadata": {},
   "outputs": [
    {
     "name": "stdout",
     "output_type": "stream",
     "text": [
      "The state of the Tsirelson bound is = Quantum object: dims = [[2, 2], [1, 1]], shape = (4, 1), type = ket\n",
      "Qobj data =\n",
      "[[-0.70710678]\n",
      " [ 0.        ]\n",
      " [ 0.        ]\n",
      " [-0.70710678]]\n"
     ]
    }
   ],
   "source": [
    "\n",
    "print(\"The state of the Tsirelson bound is =\", v[e.argmax()])\n"
   ]
  },
  {
   "cell_type": "markdown",
   "metadata": {},
   "source": [
    "To prove this we recaluate the CHSH bound with the eigenstate found"
   ]
  },
  {
   "cell_type": "code",
   "execution_count": 181,
   "metadata": {},
   "outputs": [
    {
     "name": "stdout",
     "output_type": "stream",
     "text": [
      "CHSH inequality for max eigenstate = Quantum object: dims = [[1], [1]], shape = (1, 1), type = bra\n",
      "Qobj data =\n",
      "[[2.82842712]]\n"
     ]
    }
   ],
   "source": [
    "print(\"CHSH inequality for max eigenstate =\", v[e.argmax()].dag()*beta*v[e.argmax()])"
   ]
  },
  {
   "cell_type": "markdown",
   "metadata": {},
   "source": [
    "QED"
   ]
  }
 ],
 "metadata": {
  "interpreter": {
   "hash": "ba00f4f09fd685ca90d1e05915d89312cad98c4ef7f6e546727455743ebf6d47"
  },
  "kernelspec": {
   "display_name": "Python 3.10.2 ('phys8905')",
   "language": "python",
   "name": "python3"
  },
  "language_info": {
   "codemirror_mode": {
    "name": "ipython",
    "version": 3
   },
   "file_extension": ".py",
   "mimetype": "text/x-python",
   "name": "python",
   "nbconvert_exporter": "python",
   "pygments_lexer": "ipython3",
   "version": "3.10.2"
  },
  "orig_nbformat": 4
 },
 "nbformat": 4,
 "nbformat_minor": 2
}
