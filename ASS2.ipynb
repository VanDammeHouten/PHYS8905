{
 "cells": [
  {
   "cell_type": "markdown",
   "metadata": {},
   "source": [
    "# Question 2"
   ]
  },
  {
   "cell_type": "code",
   "execution_count": 2,
   "metadata": {},
   "outputs": [],
   "source": [
    "from qutip import *\n",
    "import numpy as np"
   ]
  },
  {
   "cell_type": "markdown",
   "metadata": {},
   "source": [
    "Computational basis"
   ]
  },
  {
   "cell_type": "code",
   "execution_count": 3,
   "metadata": {},
   "outputs": [],
   "source": [
    "zero_k=basis(2,0)\n",
    "one_k=basis(2,1)"
   ]
  },
  {
   "cell_type": "code",
   "execution_count": 50,
   "metadata": {},
   "outputs": [],
   "source": [
    "\n",
    "theta = np.linspace(0,np.pi,65)\n",
    "E0 = np.zeros(theta.shape)\n",
    "for n in range(theta.size):\n",
    "    #form density matrix for given theta\n",
    "    psiAB = np.cos(theta[n])*tensor(zero_k,zero_k) + np.sin(theta[n])*tensor(one_k,one_k)\n",
    "    rhoAB = (Qobj)(psiAB*psiAB.dag())\n",
    "\n",
    "    #calculate entropy before distillation\n",
    "    E0[n] = entropy_vn(rhoAB.ptrace(0),2)\n",
    "\n",
    "    #form 3 state system\n",
    "    rho = tensor(rhoAB,rhoAB,rhoAB)\n",
    "\n",
    "    \n",
    "\n",
    "\n"
   ]
  },
  {
   "cell_type": "code",
   "execution_count": null,
   "metadata": {},
   "outputs": [],
   "source": []
  }
 ],
 "metadata": {
  "interpreter": {
   "hash": "ba00f4f09fd685ca90d1e05915d89312cad98c4ef7f6e546727455743ebf6d47"
  },
  "kernelspec": {
   "display_name": "Python 3.10.2 ('phys8905')",
   "language": "python",
   "name": "python3"
  },
  "language_info": {
   "codemirror_mode": {
    "name": "ipython",
    "version": 3
   },
   "file_extension": ".py",
   "mimetype": "text/x-python",
   "name": "python",
   "nbconvert_exporter": "python",
   "pygments_lexer": "ipython3",
   "version": "3.10.2"
  },
  "orig_nbformat": 4
 },
 "nbformat": 4,
 "nbformat_minor": 2
}
