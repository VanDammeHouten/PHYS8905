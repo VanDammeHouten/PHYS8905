{
 "cells": [
  {
   "cell_type": "markdown",
   "metadata": {},
   "source": [
    "# Assignment 5"
   ]
  },
  {
   "cell_type": "markdown",
   "metadata": {},
   "source": [
    "## Question 1 \n",
    "### a)\n",
    "Any single error can be considered as the insertion of a Pauli $X,Y,Z$ gate into the quantum circuit of the Steane code. There are eight operations in the Cat state preparation and verification which leads to 9 positions ovewr the seven "
   ]
  },
  {
   "cell_type": "markdown",
   "metadata": {},
   "source": [
    "## Question 3\n",
    "project other qubit in pair either 1,2 or 3,4 in the zero basis. THan apply a hadarmard to that qubit and apply 3 cnots with the control as the same qubit the hadarmard is applied to with the other 3 qubits as targets in any order. Use X operator for projection into 1 basis."
   ]
  },
  {
   "cell_type": "markdown",
   "metadata": {},
   "source": [
    "## Question 4\n",
    "### a)\n",
    "\n",
    "$$\n",
    "\\begin{align}\n",
    "\\ket{\\Psi} &= \\frac{1}{2}(\\ket{000} + \\ket{010} + \\ket{100} + \\ket{111})\\\\\n",
    "\\end{align}\n",
    "$$\n",
    "\n",
    "The only stabiliser and thus stabiliser generator for the state $\\ket{0}$ is the Pauli operator $Z$. Thus the only stabiliser generator for the state $\\ket{000}$ is $Z_{1}Z_{2}Z_{3}$ which is shorthand for $Z\\otimes Z \\otimes Z$. Working through the circuit for creating the state $\\ket{\\Psi}$ conjugating  gates from left to right we calculate the the stabliser $S$ for $\\ket{\\Psi}$. First conjugating with the gate $H_1H_2I_3$ S becomes:\n",
    "\n",
    "$$\n",
    "\\begin{align}\n",
    "S &= (H_{1}H_{2}I_{3})Z_{1}Z_{2}Z_{3} (H_{1}H_{2}I_{3})^{\\dagger}\\\\\n",
    "&= X_{1}X_{2}Z_{3}\\\\\n",
    "\\end{align}\n",
    "$$\n",
    "\n",
    "Than conjugating with the Toffoli gate ($\\ket{0}_{1}\\bra{0}I_{2}I_{3} + \\ket{1}_{1}\\bra{1}(\\ket{0}_{2}\\bra{0}I_3 +\\ket{1}_{2}\\bra{1}X_3)$) the stabiliser S is:\n",
    "$$\n",
    "\\begin{align}\n",
    "S &= (\\ket{0}_{1}\\bra{0}I_{2}I_{3} + \\ket{1}_{1}\\bra{1}(\\ket{0}_{2}\\bra{0}I_3 +\\ket{1}_{2}\\bra{1}X_3))X_{1}X_{2}Z_{3}(\\ket{0}_{1}\\bra{0}I_{2}I_{3} + \\ket{1}_{1}\\bra{1}(\\ket{0}_{2}\\bra{0}I_3 +\\ket{1}_{2}\\bra{1}X_3))^{\\dagger}\\\\\n",
    "&= (\\ket{0}_{1}\\bra{0}I_{2}I_{3}) X_{1}X_{2}Z_{3}(\\ket{1}_{1}\\bra{1}\\ket{1}_{2}\\bra{1}X_3)^{\\dagger}\\\\\n",
    "&+ (\\ket{0}_{1}\\bra{0}I_{2}I_{3}) X_{1}X_{2}Z_{3}(\\ket{1}_{1}\\bra{1}\\ket{0}_{2}\\bra{0}I_3)^{\\dagger}\\\\\n",
    "&+  (\\ket{1}_{1}\\bra{1}\\ket{1}_{2}\\bra{1}X_3)X_{1}X_{2}Z_{3}(\\ket{0}_{1}\\bra{0}I_{2}I_{3})^{\\dagger}\\\\\n",
    "&+  (\\ket{1}_{1}\\bra{1}\\ket{0}_{2}\\bra{0}I_3)X_{1}X_{2}Z_{3}(\\ket{0}_{1}\\bra{0}I_{2}I_{3})^{\\dagger}\\\\\n",
    "&= \\ket{0}_{1}\\bra{1}\\ket{1}_{2}\\bra{0}Z_3  + \\ket{0}_{1}\\bra{1}\\ket{0}_{2}\\bra{1}Z_3X_3+ \\ket{1}_{1}\\bra{0}\\ket{1}_{2}\\bra{0}X_3Z_3 + \\ket{1}_{1}\\bra{0}\\ket{0}_{2}\\bra{1}Z_3\n",
    "\\end{align}\n",
    "$$\n",
    "\n",
    "Therefore the stabilser generator is $S = \\ket{0}_{1}\\bra{1}\\ket{1}_{2}\\bra{0}Z_3  + \\ket{0}_{1}\\bra{1}\\ket{0}_{2}\\bra{1}Z_3X_3+ \\ket{1}_{1}\\bra{0}\\ket{1}_{2}\\bra{0}X_3Z_3 + \\ket{1}_{1}\\bra{0}\\ket{0}_{2}\\bra{1}Z_3$ as it is the only stabiliser of the state $\\ket{\\Psi}$."
   ]
  }
 ],
 "metadata": {
  "interpreter": {
   "hash": "fbc7979b80aada599e86e6ce1b3ab7c7d28185c782b680a062f6ce47b0635856"
  },
  "kernelspec": {
   "display_name": "Python 3.10.4 ('phys8905')",
   "language": "python",
   "name": "python3"
  },
  "language_info": {
   "name": "python",
   "version": "3.10.4"
  },
  "orig_nbformat": 4
 },
 "nbformat": 4,
 "nbformat_minor": 2
}
