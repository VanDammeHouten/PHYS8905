{
 "cells": [
  {
   "cell_type": "markdown",
   "metadata": {},
   "source": [
    "# Asignment 3\n",
    "PHYS8905 - Zachary Milgate (mqg10019180)"
   ]
  },
  {
   "cell_type": "markdown",
   "metadata": {},
   "source": [
    "## Question 1\n",
    "### a) \n",
    "Since there are 8 items to be searched this can be performed on $2^n = 8$ qubits. Therefore $n=3$ qubits are needed.   \n",
    "\\begin{align}\n",
    "r &\\approx \\frac{\\pi}{4}\\sqrt{2^n} - \\frac{1}{2}\\\\\n",
    "    &= 1.7214\\\\\n",
    "k &= \\lceil r \\rceil\\\\\n",
    "    &= 2\n",
    "\\end{align}\n",
    "Grover's algorithm will require 2 iterations to find the single solution."
   ]
  },
  {
   "cell_type": "markdown",
   "metadata": {},
   "source": [
    "### b)\n",
    "The initial state is the superposition state expressed $\\ket{\\psi}$ and Grover's Algorithm can be mathematically expressed as the unitary $U_g$\n",
    "\\begin{align}\n",
    "\\ket{\\psi} &= \\cos{\\theta}\\ket{\\phi_{\\perp}} + \\sin{\\vartheta}\\ket{a}\\\\\n",
    "U_g &= (2\\ket{\\phi}\\bra{\\phi} - I)(I-2\\ket{a}\\bra{a})\n",
    "\\end{align}\n",
    "\n",
    "After one iteration:\n",
    "\n",
    "\\begin{align}\n",
    "U_g\\ket{\\phi} &= \\cos{\\vartheta +2\\theta}\\ket{\\phi_{\\perp}} + \\sin{\\vartheta +2\\theta}\\ket{a}\\\\\n",
    "\\end{align}\n",
    "\n",
    "After the second iteration we end up with:\n",
    "\\begin{align}\n",
    "U_gU_g\\ket{\\phi} &= \\cos{\\vartheta +4\\theta}\\ket{\\phi_{\\perp}} + \\sin{\\vartheta +4\\theta}\\ket{a}\\\\\n",
    "&= \\cos{5\\theta}\\ket{\\phi_{\\perp}} + \\sin{5\\theta}\\ket{a}\\\\\n",
    "\\end{align}\n",
    "\n",
    "Since $\\sin{\\theta} = 1/\\sqrt{2^n}$ and $n=3$ => $\\theta=0.361$\n",
    "\\begin{align}\n",
    "U_gU_g\\ket{\\phi} &= -0.233\\ket{\\phi_{\\perp}} + 0.972\\ket{a}\\\\\n",
    "\\end{align}\n"
   ]
  },
  {
   "cell_type": "markdown",
   "metadata": {},
   "source": [
    "### c)\n",
    "The following circuit is created using qiskit which runs Grover's algorithm twice. "
   ]
  },
  {
   "cell_type": "code",
   "execution_count": 209,
   "metadata": {},
   "outputs": [],
   "source": [
    "from qutip import *\n",
    "import matplotlib.pyplot as plt\n",
    "import numpy as np\n",
    "from scipy.optimize import curve_fit\n",
    "\n",
    "import qiskit as qk\n",
    "from qiskit import QuantumCircuit, QuantumRegister\n",
    "from qiskit.circuit.library.standard_gates import ZGate,XGate,IGate"
   ]
  },
  {
   "cell_type": "code",
   "execution_count": 210,
   "metadata": {},
   "outputs": [
    {
     "data": {
      "text/html": [
       "<pre style=\"word-wrap: normal;white-space: pre;background: #fff0;line-height: 1.1;font-family: &quot;Courier New&quot;,Courier,monospace\">               ░ ┌───┐┌───────┐┌───┐┌───┐   ┌───┐┌───┐┌───────┐┌───┐┌───┐   »\n",
       "q1905_0: ──────░─┤ H ├┤0      ├┤ H ├┤ X ├─■─┤ X ├┤ H ├┤0      ├┤ H ├┤ X ├─■─»\n",
       "               ░ ├───┤│       │├───┤├───┤ │ ├───┤├───┤│       │├───┤├───┤ │ »\n",
       "q1905_1: ──────░─┤ H ├┤1      ├┤ H ├┤ X ├─■─┤ X ├┤ H ├┤1      ├┤ H ├┤ X ├─■─»\n",
       "               ░ ├───┤│  f(x) │├───┤├───┤ │ ├───┤├───┤│  f(x) │├───┤├───┤ │ »\n",
       "q1905_2: ──────░─┤ H ├┤2      ├┤ H ├┤ X ├─■─┤ X ├┤ H ├┤2      ├┤ H ├┤ X ├─■─»\n",
       "         ┌───┐ ░ ├───┤│       │└───┘└───┘   └───┘└───┘│       │└───┘└───┘   »\n",
       "q1905_3: ┤ X ├─░─┤ H ├┤3      ├───────────────────────┤3      ├─────────────»\n",
       "         └───┘ ░ └───┘└───────┘                       └───────┘             »\n",
       "«         ┌───┐┌───┐\n",
       "«q1905_0: ┤ X ├┤ H ├\n",
       "«         ├───┤├───┤\n",
       "«q1905_1: ┤ X ├┤ H ├\n",
       "«         ├───┤├───┤\n",
       "«q1905_2: ┤ X ├┤ H ├\n",
       "«         └───┘└───┘\n",
       "«q1905_3: ──────────\n",
       "«                   </pre>"
      ],
      "text/plain": [
       "               ░ ┌───┐┌───────┐┌───┐┌───┐   ┌───┐┌───┐┌───────┐┌───┐┌───┐   »\n",
       "q1905_0: ──────░─┤ H ├┤0      ├┤ H ├┤ X ├─■─┤ X ├┤ H ├┤0      ├┤ H ├┤ X ├─■─»\n",
       "               ░ ├───┤│       │├───┤├───┤ │ ├───┤├───┤│       │├───┤├───┤ │ »\n",
       "q1905_1: ──────░─┤ H ├┤1      ├┤ H ├┤ X ├─■─┤ X ├┤ H ├┤1      ├┤ H ├┤ X ├─■─»\n",
       "               ░ ├───┤│  f(x) │├───┤├───┤ │ ├───┤├───┤│  f(x) │├───┤├───┤ │ »\n",
       "q1905_2: ──────░─┤ H ├┤2      ├┤ H ├┤ X ├─■─┤ X ├┤ H ├┤2      ├┤ H ├┤ X ├─■─»\n",
       "         ┌───┐ ░ ├───┤│       │└───┘└───┘   └───┘└───┘│       │└───┘└───┘   »\n",
       "q1905_3: ┤ X ├─░─┤ H ├┤3      ├───────────────────────┤3      ├─────────────»\n",
       "         └───┘ ░ └───┘└───────┘                       └───────┘             »\n",
       "«         ┌───┐┌───┐\n",
       "«q1905_0: ┤ X ├┤ H ├\n",
       "«         ├───┤├───┤\n",
       "«q1905_1: ┤ X ├┤ H ├\n",
       "«         ├───┤├───┤\n",
       "«q1905_2: ┤ X ├┤ H ├\n",
       "«         └───┘└───┘\n",
       "«q1905_3: ──────────\n",
       "«                   "
      ]
     },
     "execution_count": 210,
     "metadata": {},
     "output_type": "execute_result"
    }
   ],
   "source": [
    "n = 4\n",
    "q = qk.QuantumRegister(n)\n",
    "\n",
    "cccnot = XGate().control(3)\n",
    "ccz = ZGate().control(2)\n",
    "\n",
    "oracleCirc = QuantumCircuit(n)\n",
    "oracleCirc.x([0,2])\n",
    "oracleCirc.append(cccnot,range(4))\n",
    "oracleCirc.x([0,2])\n",
    "oracleGate = oracleCirc.to_gate(label=\"f(x)\")\n",
    "\n",
    "amplifCirc = QuantumCircuit(q)\n",
    "amplifCirc.h(q[0:3])\n",
    "amplifCirc.x(q[0:3])\n",
    "amplifCirc.append(ccz,[0,1,2])\n",
    "amplifCirc.x(q[0:3])\n",
    "amplifCirc.h(q[0:3])\n",
    "\n",
    "\n",
    "initialiseCirc = QuantumCircuit(q) \n",
    "#initialise circuit to |0001>\n",
    "initialiseCirc.x(q[3])\n",
    "initialiseCirc.barrier()\n",
    "#create superposition state \n",
    "initialiseCirc.h(q[0:4])\n",
    "\n",
    "\n",
    "groverCirc= QuantumCircuit(q) \n",
    "groverCirc.compose(initialiseCirc, inplace=True)\n",
    "groverCirc.append(oracleGate,q[0:4])\n",
    "groverCirc.compose(amplifCirc, inplace=True)\n",
    "groverCirc.append(oracleGate,q[0:4])\n",
    "groverCirc.compose(amplifCirc, inplace=True)\n",
    "groverCirc.draw()\n",
    "\n"
   ]
  },
  {
   "cell_type": "markdown",
   "metadata": {},
   "source": [
    "### d) \n",
    "To calculate the function $f(x)$ $X$ gates are applied before and after the CCCNOT gate where the qubits are $0$ of the desired outcome $\\ket{a}$. For example if Grover's algorithm was searching for the state $\\ket{010}$ $X$ gates would be required on the first and third qubits. A circuit diagram the oracle for $\\ket{a}$ is shown below:"
   ]
  },
  {
   "cell_type": "code",
   "execution_count": 211,
   "metadata": {},
   "outputs": [
    {
     "data": {
      "text/html": [
       "<pre style=\"word-wrap: normal;white-space: pre;background: #fff0;line-height: 1.1;font-family: &quot;Courier New&quot;,Courier,monospace\">     ┌───┐     ┌───┐\n",
       "q_0: ┤ X ├──■──┤ X ├\n",
       "     └───┘  │  └───┘\n",
       "q_1: ───────■───────\n",
       "     ┌───┐  │  ┌───┐\n",
       "q_2: ┤ X ├──■──┤ X ├\n",
       "     └───┘┌─┴─┐└───┘\n",
       "q_3: ─────┤ X ├─────\n",
       "          └───┘     </pre>"
      ],
      "text/plain": [
       "     ┌───┐     ┌───┐\n",
       "q_0: ┤ X ├──■──┤ X ├\n",
       "     └───┘  │  └───┘\n",
       "q_1: ───────■───────\n",
       "     ┌───┐  │  ┌───┐\n",
       "q_2: ┤ X ├──■──┤ X ├\n",
       "     └───┘┌─┴─┐└───┘\n",
       "q_3: ─────┤ X ├─────\n",
       "          └───┘     "
      ]
     },
     "execution_count": 211,
     "metadata": {},
     "output_type": "execute_result"
    }
   ],
   "source": [
    "oracleCirc.draw()"
   ]
  },
  {
   "cell_type": "markdown",
   "metadata": {},
   "source": [
    "## Question 2"
   ]
  },
  {
   "cell_type": "markdown",
   "metadata": {},
   "source": [
    "### a)\n",
    "To find the values of $b$ that would be eliminated from $N=15$ we calculate $\\mathrm{gcd}(b.N)$ for all $1<b<N$ "
   ]
  },
  {
   "cell_type": "code",
   "execution_count": 212,
   "metadata": {},
   "outputs": [
    {
     "name": "stdout",
     "output_type": "stream",
     "text": [
      "The values of b that are not coprime with N=15 are [3, 5, 6, 9, 10, 12]\n"
     ]
    }
   ],
   "source": [
    "# Start with an N which is a product of primes.\n",
    "N=15\n",
    "notCoprime = []\n",
    "coprime = []\n",
    "for b in range(2,N):\n",
    "    g=np.gcd(b,N)\n",
    "    if g>1:\n",
    "        notCoprime.append(b)\n",
    "    else:\n",
    "        coprime.append(b)\n",
    "print(\"The values of b that are not coprime with N=15 are\", notCoprime)"
   ]
  },
  {
   "cell_type": "markdown",
   "metadata": {},
   "source": [
    "### b)\n",
    "To find the periods of the values of $b$ that are coprime with N we iterate through the function $f(x)$ for increasing values of $x$ until we find $r$ or the period of each coprime."
   ]
  },
  {
   "cell_type": "code",
   "execution_count": 213,
   "metadata": {},
   "outputs": [
    {
     "name": "stdout",
     "output_type": "stream",
     "text": [
      "For the coprimes [ 2  4  7  8 11 13 14] the respective periods are r= [4 2 4 4 2 4 2]\n"
     ]
    }
   ],
   "source": [
    "coprime = np.array(coprime, dtype=int)\n",
    "periods = np.zeros(coprime.shape, dtype=int)\n",
    "x = 1\n",
    "while (periods == 0).any():\n",
    "    fx = (coprime**x)%N\n",
    "    periods[(periods ==0)&(fx ==1)] = x\n",
    "    x = x+ 1\n",
    "print(\"For the coprimes\",coprime,\"the respective periods are r=\",periods)\n"
   ]
  },
  {
   "cell_type": "markdown",
   "metadata": {},
   "source": [
    "### c)\n",
    "To find the value to eliminate we calculate the result of the boolean function $(b^{r/2} + 1) \\% N == 1$ for the periods found above for each of the coprimes."
   ]
  },
  {
   "cell_type": "code",
   "execution_count": 214,
   "metadata": {},
   "outputs": [
    {
     "name": "stdout",
     "output_type": "stream",
     "text": [
      "The value to be eliminated is b= [14]\n"
     ]
    }
   ],
   "source": [
    "bhalfr = (coprime[:,None]**(periods/2)).diagonal().astype(int)\n",
    "bElim = (bhalfr+1)%N == 0\n",
    "print(\"The value to be eliminated is b=\",coprime[bElim])"
   ]
  },
  {
   "cell_type": "markdown",
   "metadata": {},
   "source": [
    "### d)\n",
    "$\\mathrm{gcd}(b^{r/2}+1)$ and $\\mathrm{gcd}(b^{r/2}-1)$ are the factors of the input N. However, when performed on a quantum computer they have a probability of being measured thus not always giving the outcome."
   ]
  },
  {
   "cell_type": "code",
   "execution_count": 215,
   "metadata": {},
   "outputs": [
    {
     "name": "stdout",
     "output_type": "stream",
     "text": [
      "[5 5 5 5 3 5]\n",
      "[3 3 3 3 5 3]\n"
     ]
    }
   ],
   "source": [
    "pos = np.gcd(np.delete(bhalfr, np.where(bElim)) + 1, N)\n",
    "neg = np.gcd(np.delete(bhalfr, np.where(bElim)) - 1, N)\n",
    "print(pos)\n",
    "print(neg)"
   ]
  },
  {
   "cell_type": "markdown",
   "metadata": {},
   "source": [
    "### e)\n",
    "Since the period of $b=13$ is $r=4$ the possible values of $\\frac{ay}{2^n}$ $n=4$. $y=64,128,192$"
   ]
  },
  {
   "cell_type": "markdown",
   "metadata": {},
   "source": [
    "## Question 3"
   ]
  },
  {
   "cell_type": "markdown",
   "metadata": {},
   "source": [
    "### a)\n",
    "\n",
    "First the Hamiltonian is broken into $A$ and $B$. \n",
    "\\begin{align}\n",
    "A &= -2 Z\\otimes Z\\\\\n",
    "B &= X\\otimes I + I\\otimes X\n",
    "\\end{align}\n",
    "\n",
    "We compare the error in the initial Hamiltonian $H$ with the approximation created from $A\\& B$ using qutip."
   ]
  },
  {
   "cell_type": "code",
   "execution_count": 216,
   "metadata": {},
   "outputs": [],
   "source": [
    "N = 100\n",
    "delta = 1\n",
    "tau = 1\n",
    "hbar = 1\n",
    "\n",
    "A = (-2*tensor(sigmaz(),sigmaz()))\n",
    "B = (tensor(sigmax(),identity([2])) + tensor(identity([2]),sigmax()))\n",
    "H = A + B \n",
    "\n",
    "deltat = np.linspace(0,1,N)\n",
    "Uerror = np.zeros(deltat.shape)\n",
    "\n",
    "\n",
    "for n in range(N):\n",
    "    HH=-1j*deltat[n]*H/hbar\n",
    "    HA=-1j*deltat[n]*A/(2*hbar)\n",
    "    HB=-1j*deltat[n]*B/hbar\n",
    "\n",
    "    #Real Unitary\n",
    "    U = HH.expm()\n",
    "    #Approximate unitary\n",
    "    Uapprox = HA.expm()*HB.expm()*HA.expm()\n",
    "\n",
    "    #Determine error using the norm of the difference\n",
    "    Uerror[n] = (U-Uapprox).norm()\n"
   ]
  },
  {
   "cell_type": "code",
   "execution_count": 217,
   "metadata": {},
   "outputs": [
    {
     "data": {
      "image/png": "[encoded data removed]",
      "text/plain": [
       "<Figure size 432x288 with 1 Axes>"
      ]
     },
     "metadata": {
      "needs_background": "light"
     },
     "output_type": "display_data"
    }
   ],
   "source": [
    "# Plotting the error as a function of the time interval.\n",
    "plt.plot(deltat,Uerror)\n",
    "plt.xlabel(r'$\\delta t$')\n",
    "plt.ylabel(r'Error $\\epsilon$')\n",
    "#plt.legend(['initial entanglement', 'final entanglement'])\n",
    "plt.show()"
   ]
  },
  {
   "cell_type": "markdown",
   "metadata": {},
   "source": [
    "### b)\n",
    "The following function find the optimal curve that is greater than or equal to the discrete curve generated by the error of the real and approximate unitaries of the Hamiltonian $H$ that fits the function $C{\\delta t}^k$"
   ]
  },
  {
   "cell_type": "code",
   "execution_count": 218,
   "metadata": {},
   "outputs": [
    {
     "name": "stdout",
     "output_type": "stream",
     "text": [
      "The solution to the upper bound curve us: k= 2.0 C= 3.041108450773113\n"
     ]
    }
   ],
   "source": [
    "def optfloat(k, xs, ys):\n",
    "    def curve_test(x,C):\n",
    "        return C*x**k\n",
    "    below = True\n",
    "    boundsC = [[0], [np.inf]]\n",
    "    while below:\n",
    "        popt, pcov = curve_fit(curve_test, xs, ys,bounds=boundsC)\n",
    "        below = (curve_test(xs, popt) - ys < 0).any()\n",
    "        boundsC = [popt+0.1, [np.inf]]\n",
    "\n",
    "    errsqr = np.linalg.norm(curve_test(xs, popt) - ys)\n",
    "    return dict(errsqr=errsqr, floatcoef=popt)\n",
    "\n",
    "def errfun(intcoef, *args):\n",
    "    xs, ys = args\n",
    "    return optfloat(intcoef, xs, ys)['errsqr']\n",
    "\n",
    "\n",
    "from scipy.optimize import brute\n",
    "grid = [slice(1, 4, 1)]  # grid search over 1, 2, ..., 4\n",
    "# it is important to specify finish=None in below\n",
    "intcoef = brute(errfun, grid, args=(deltat, Uerror,), finish=None)\n",
    "floatcoef = optfloat(intcoef, deltat, Uerror)['floatcoef'][0]\n",
    "print(\"The solution to the upper bound curve us: k=\",intcoef,\"C=\",floatcoef)\n"
   ]
  },
  {
   "cell_type": "code",
   "execution_count": 219,
   "metadata": {},
   "outputs": [
    {
     "data": {
      "image/png": "[encoded data removed]",
      "text/plain": [
       "<Figure size 432x288 with 1 Axes>"
      ]
     },
     "metadata": {
      "needs_background": "light"
     },
     "output_type": "display_data"
    }
   ],
   "source": [
    "\n",
    "plt.plot(deltat,Uerror)\n",
    "plt.plot(deltat,floatcoef*deltat**intcoef)\n",
    "plt.xlabel(r'$\\delta t$')\n",
    "plt.ylabel(r'Error $\\epsilon$')\n",
    "plt.legend([r'Error $\\|U-U_{\\mathrm{approx}}\\|$', r'Approximation $C{\\delta t}^k$'])\n",
    "plt.show()\n"
   ]
  },
  {
   "cell_type": "markdown",
   "metadata": {},
   "source": [
    "### c)\n",
    "The upper bound found above can be used to solve for values of $\\delta t$ that keep the error with $\\epsilon$.\n",
    "\n",
    "\\begin{align}\n",
    "\\epsilon &\\geq C{\\delta t}^k\\\\\n",
    "\\frac{\\epsilon}{C} &\\geq {\\delta t}^k\\\\\n",
    "\\sqrt[k]{\\frac{\\epsilon}{C}} &\\geq \\delta t\n",
    "\\end{align}\n",
    "\n",
    "This gives an inequality for the value of $\\delta t$ that will keep the error less than or equal to epsilon. To solve for the number of intervals $n$ for a give time $t$. We substitute $\\delta t = \\frac{t}{n}$.\n",
    "\\begin{align}\n",
    "\\sqrt[k]{\\frac{\\epsilon}{C}} &\\geq \\frac{t}{n}\\\\\n",
    "n &\\geq \\frac{t}{\\sqrt[k]{\\frac{\\epsilon}{C}}}\\\\\n",
    "n &\\geq t\\sqrt[k]{\\frac{C}{\\epsilon}}\n",
    "\\end{align}\n",
    "Substituting the parameters for $C,k$ found in part b). Since $k=2$ is even but we only consider the positive case.\n",
    "\\begin{align}\n",
    "n &\\geq t\\sqrt{\\frac{3.0411}{\\epsilon}}\n",
    "\\end{align}\n",
    "\n"
   ]
  },
  {
   "cell_type": "markdown",
   "metadata": {},
   "source": [
    "### d)\n",
    "The unitary $U=H$ can be expressed as follows: \n",
    "\\begin{align}\n",
    "U &= \\Sigma_l \\alpha_l U_l\\\\\n",
    "\\alpha_{1,2,3,4} &= 1 \\\\\n",
    "U_{1,2} &= -\\sigma_z \\otimes \\sigma_z\\\\\n",
    "U_{3} &= \\sigma_x \\otimes I\\\\\n",
    "U_{4} &= I \\otimes \\sigma_x\\\\\n",
    "\\ket{\\chi} &= \\frac{1}{2} (\\ket{00} + \\ket{01}+ \\ket{10} + \\ket{11})\\\\\n",
    "&= H\\otimes H \\ket{00}\n",
    "\\end{align}"
   ]
  },
  {
   "cell_type": "code",
   "execution_count": 220,
   "metadata": {},
   "outputs": [
    {
     "data": {
      "text/html": [
       "<pre style=\"word-wrap: normal;white-space: pre;background: #fff0;line-height: 1.1;font-family: &quot;Courier New&quot;,Courier,monospace\">         ┌───┐┌───┐                       ┌───┐                     ┌───┐\n",
       "q1906_0: ┤ H ├┤ X ├────■─────────────■────┤ X ├───■────────────■────┤ H ├\n",
       "         ├───┤├───┤    │    ┌───┐    │    ├───┤   │    ┌───┐   │    ├───┤\n",
       "q1906_1: ┤ H ├┤ X ├────■────┤ X ├────■────┤ X ├───■────┤ X ├───■────┤ H ├\n",
       "         └───┘└───┘┌───┴───┐└───┘┌───┴───┐└───┘┌──┴───┐└───┘┌──┴───┐└───┘\n",
       "q1906_2: ──────────┤0      ├─────┤0      ├─────┤0     ├─────┤0     ├─────\n",
       "                   │  -ZxZ │     │  -ZxZ │     │  XxI │     │  IxX │     \n",
       "q1906_3: ──────────┤1      ├─────┤1      ├─────┤1     ├─────┤1     ├─────\n",
       "                   └───────┘     └───────┘     └──────┘     └──────┘     </pre>"
      ],
      "text/plain": [
       "         ┌───┐┌───┐                       ┌───┐                     ┌───┐\n",
       "q1906_0: ┤ H ├┤ X ├────■─────────────■────┤ X ├───■────────────■────┤ H ├\n",
       "         ├───┤├───┤    │    ┌───┐    │    ├───┤   │    ┌───┐   │    ├───┤\n",
       "q1906_1: ┤ H ├┤ X ├────■────┤ X ├────■────┤ X ├───■────┤ X ├───■────┤ H ├\n",
       "         └───┘└───┘┌───┴───┐└───┘┌───┴───┐└───┘┌──┴───┐└───┘┌──┴───┐└───┘\n",
       "q1906_2: ──────────┤0      ├─────┤0      ├─────┤0     ├─────┤0     ├─────\n",
       "                   │  -ZxZ │     │  -ZxZ │     │  XxI │     │  IxX │     \n",
       "q1906_3: ──────────┤1      ├─────┤1      ├─────┤1     ├─────┤1     ├─────\n",
       "                   └───────┘     └───────┘     └──────┘     └──────┘     "
      ]
     },
     "execution_count": 220,
     "metadata": {},
     "output_type": "execute_result"
    }
   ],
   "source": [
    "import qiskit as qk\n",
    "from qiskit import QuantumCircuit, QuantumRegister\n",
    "from qiskit.circuit.library.standard_gates import ZGate,XGate,IGate\n",
    "\n",
    "n = 4\n",
    "q = qk.QuantumRegister(n)\n",
    "lcuCirc = QuantumCircuit(q)\n",
    "\n",
    "lcuCirc.h(q[0:2])\n",
    "ZZ_gate = qk.extensions.UnitaryGate(tensor(-sigmaz(),sigmaz()).data.toarray(),label=\"-ZxZ\")\n",
    "XI_gate = qk.extensions.UnitaryGate(tensor(sigmax(),identity(2)).data.toarray(),label=\"XxI\")\n",
    "IX_gate = qk.extensions.UnitaryGate(tensor(identity(2),sigmax()).data.toarray(),label=\"IxX\")\n",
    "cZZ_gate = ZZ_gate.control(2)\n",
    "cXI_gate = XI_gate.control(2)\n",
    "cIX_gate = IX_gate.control(2)\n",
    "lcuCirc.x(q[0:2])\n",
    "lcuCirc.append(cZZ_gate,[0,1,2,3])\n",
    "lcuCirc.x(q[1])\n",
    "lcuCirc.append(cZZ_gate,[0,1,2,3])\n",
    "lcuCirc.x(q[0:2])\n",
    "lcuCirc.append(cXI_gate,[0,1,2,3])\n",
    "lcuCirc.x(q[1])\n",
    "lcuCirc.append(cIX_gate,[0,1,2,3])\n",
    "\n",
    "lcuCirc.h(q[0:2])\n",
    "\n",
    "lcuCirc.draw()"
   ]
  }
 ],
 "metadata": {
  "interpreter": {
   "hash": "ba00f4f09fd685ca90d1e05915d89312cad98c4ef7f6e546727455743ebf6d47"
  },
  "kernelspec": {
   "display_name": "Python 3.10.2 ('phys8905')",
   "language": "python",
   "name": "python3"
  },
  "language_info": {
   "codemirror_mode": {
    "name": "ipython",
    "version": 3
   },
   "file_extension": ".py",
   "mimetype": "text/x-python",
   "name": "python",
   "nbconvert_exporter": "python",
   "pygments_lexer": "ipython3",
   "version": "3.10.2"
  },
  "orig_nbformat": 4
 },
 "nbformat": 4,
 "nbformat_minor": 2
}
