{
 "cells": [
  {
   "cell_type": "markdown",
   "metadata": {},
   "source": [
    "# Asignment 3\n",
    "PHYS8905 - Zachary Milgate (mqg10019180)"
   ]
  },
  {
   "cell_type": "markdown",
   "metadata": {},
   "source": [
    "## Question 1\n",
    "### a) \n",
    "Since there are 8 items to be searched this can be performed on $2^n = 8$ qubits. Therefore $n=3$ qubits are needed.   \n",
    "\\begin{align}\n",
    "r &\\approx \\frac{\\pi}{4}\\sqrt{2^n} - \\frac{1}{2}\\\\\n",
    "    &= 1.7214\\\\\n",
    "k &= \\lceil r \\rceil\\\\\n",
    "    &= 2\n",
    "\\end{align}\n",
    "Grover's algorithm will require 2 iterations to find the single solution."
   ]
  },
  {
   "cell_type": "markdown",
   "metadata": {},
   "source": [
    "### b)\n"
   ]
  },
  {
   "cell_type": "code",
   "execution_count": 1,
   "metadata": {},
   "outputs": [],
   "source": [
    "from qutip import *\n",
    "import numpy as np"
   ]
  },
  {
   "cell_type": "code",
   "execution_count": 9,
   "metadata": {},
   "outputs": [
    {
     "ename": "ValueError",
     "evalue": "Gate SNOT requires one target",
     "output_type": "error",
     "traceback": [
      "\u001b[1;31m---------------------------------------------------------------------------\u001b[0m",
      "\u001b[1;31mValueError\u001b[0m                                Traceback (most recent call last)",
      "\u001b[1;32mc:\\Users\\z5015456\\source\\PHYS8905\\ASS3.ipynb Cell 5'\u001b[0m in \u001b[0;36m<cell line: 4>\u001b[1;34m()\u001b[0m\n\u001b[0;32m      <a href='vscode-notebook-cell:/c%3A/Users/z5015456/source/PHYS8905/ASS3.ipynb#ch0000009?line=1'>2</a>\u001b[0m groverCirc\u001b[39m.\u001b[39madd_gate(\u001b[39m\"\u001b[39m\u001b[39mH\u001b[39m\u001b[39m\"\u001b[39m, targets\u001b[39m=\u001b[39m[\u001b[39m0\u001b[39m,\u001b[39m1\u001b[39m,\u001b[39m2\u001b[39m,\u001b[39m3\u001b[39m])\n\u001b[0;32m      <a href='vscode-notebook-cell:/c%3A/Users/z5015456/source/PHYS8905/ASS3.ipynb#ch0000009?line=2'>3</a>\u001b[0m groverCirc\u001b[39m.\u001b[39madd_gate(\u001b[39m\"\u001b[39m\u001b[39mX\u001b[39m\u001b[39m\"\u001b[39m, targets\u001b[39m=\u001b[39m[\u001b[39m0\u001b[39m])\n\u001b[1;32m----> <a href='vscode-notebook-cell:/c%3A/Users/z5015456/source/PHYS8905/ASS3.ipynb#ch0000009?line=3'>4</a>\u001b[0m groverCirc\u001b[39m.\u001b[39;49madd_gate(\u001b[39m\"\u001b[39;49m\u001b[39mSNOT\u001b[39;49m\u001b[39m\"\u001b[39;49m, targets\u001b[39m=\u001b[39;49m[\u001b[39m0\u001b[39;49m,\u001b[39m1\u001b[39;49m,\u001b[39m2\u001b[39;49m,\u001b[39m3\u001b[39;49m])\n\u001b[0;32m      <a href='vscode-notebook-cell:/c%3A/Users/z5015456/source/PHYS8905/ASS3.ipynb#ch0000009?line=4'>5</a>\u001b[0m \u001b[39mprint\u001b[39m(q)\n\u001b[0;32m      <a href='vscode-notebook-cell:/c%3A/Users/z5015456/source/PHYS8905/ASS3.ipynb#ch0000009?line=5'>6</a>\u001b[0m rx(pi)\n",
      "File \u001b[1;32m~\\.conda\\envs\\phys8905\\lib\\site-packages\\qutip\\qip\\circuit.py:552\u001b[0m, in \u001b[0;36mQubitCircuit.add_gate\u001b[1;34m(self, gate, targets, controls, arg_value, arg_label, index, classical_controls, control_value)\u001b[0m\n\u001b[0;32m    <a href='file:///c%3A/Users/z5015456/.conda/envs/phys8905/lib/site-packages/qutip/qip/circuit.py?line=548'>549</a>\u001b[0m     name \u001b[39m=\u001b[39m gate\n\u001b[0;32m    <a href='file:///c%3A/Users/z5015456/.conda/envs/phys8905/lib/site-packages/qutip/qip/circuit.py?line=550'>551</a>\u001b[0m \u001b[39mif\u001b[39;00m index \u001b[39mis\u001b[39;00m \u001b[39mNone\u001b[39;00m:\n\u001b[1;32m--> <a href='file:///c%3A/Users/z5015456/.conda/envs/phys8905/lib/site-packages/qutip/qip/circuit.py?line=551'>552</a>\u001b[0m     gate \u001b[39m=\u001b[39m Gate(name, targets\u001b[39m=\u001b[39;49mtargets, controls\u001b[39m=\u001b[39;49mcontrols,\n\u001b[0;32m    <a href='file:///c%3A/Users/z5015456/.conda/envs/phys8905/lib/site-packages/qutip/qip/circuit.py?line=552'>553</a>\u001b[0m                 arg_value\u001b[39m=\u001b[39;49marg_value, arg_label\u001b[39m=\u001b[39;49marg_label,\n\u001b[0;32m    <a href='file:///c%3A/Users/z5015456/.conda/envs/phys8905/lib/site-packages/qutip/qip/circuit.py?line=553'>554</a>\u001b[0m                 classical_controls\u001b[39m=\u001b[39;49mclassical_controls,\n\u001b[0;32m    <a href='file:///c%3A/Users/z5015456/.conda/envs/phys8905/lib/site-packages/qutip/qip/circuit.py?line=554'>555</a>\u001b[0m                 control_value\u001b[39m=\u001b[39;49mcontrol_value)\n\u001b[0;32m    <a href='file:///c%3A/Users/z5015456/.conda/envs/phys8905/lib/site-packages/qutip/qip/circuit.py?line=555'>556</a>\u001b[0m     \u001b[39mself\u001b[39m\u001b[39m.\u001b[39mgates\u001b[39m.\u001b[39mappend(gate)\n\u001b[0;32m    <a href='file:///c%3A/Users/z5015456/.conda/envs/phys8905/lib/site-packages/qutip/qip/circuit.py?line=557'>558</a>\u001b[0m \u001b[39melse\u001b[39;00m:\n",
      "File \u001b[1;32m~\\.conda\\envs\\phys8905\\lib\\site-packages\\qutip\\qip\\circuit.py:151\u001b[0m, in \u001b[0;36mGate.__init__\u001b[1;34m(self, name, targets, controls, arg_value, arg_label, classical_controls, control_value)\u001b[0m\n\u001b[0;32m    <a href='file:///c%3A/Users/z5015456/.conda/envs/phys8905/lib/site-packages/qutip/qip/circuit.py?line=148'>149</a>\u001b[0m \u001b[39mif\u001b[39;00m name \u001b[39min\u001b[39;00m _single_qubit_gates:\n\u001b[0;32m    <a href='file:///c%3A/Users/z5015456/.conda/envs/phys8905/lib/site-packages/qutip/qip/circuit.py?line=149'>150</a>\u001b[0m     \u001b[39mif\u001b[39;00m \u001b[39mself\u001b[39m\u001b[39m.\u001b[39mtargets \u001b[39mis\u001b[39;00m \u001b[39mNone\u001b[39;00m \u001b[39mor\u001b[39;00m \u001b[39mlen\u001b[39m(\u001b[39mself\u001b[39m\u001b[39m.\u001b[39mtargets) \u001b[39m!=\u001b[39m \u001b[39m1\u001b[39m:\n\u001b[1;32m--> <a href='file:///c%3A/Users/z5015456/.conda/envs/phys8905/lib/site-packages/qutip/qip/circuit.py?line=150'>151</a>\u001b[0m         \u001b[39mraise\u001b[39;00m \u001b[39mValueError\u001b[39;00m(\u001b[39m\"\u001b[39m\u001b[39mGate \u001b[39m\u001b[39m%s\u001b[39;00m\u001b[39m requires one target\u001b[39m\u001b[39m\"\u001b[39m \u001b[39m%\u001b[39m name)\n\u001b[0;32m    <a href='file:///c%3A/Users/z5015456/.conda/envs/phys8905/lib/site-packages/qutip/qip/circuit.py?line=151'>152</a>\u001b[0m     \u001b[39mif\u001b[39;00m \u001b[39mself\u001b[39m\u001b[39m.\u001b[39mcontrols:\n\u001b[0;32m    <a href='file:///c%3A/Users/z5015456/.conda/envs/phys8905/lib/site-packages/qutip/qip/circuit.py?line=152'>153</a>\u001b[0m         \u001b[39mraise\u001b[39;00m \u001b[39mValueError\u001b[39;00m(\u001b[39m\"\u001b[39m\u001b[39mGate \u001b[39m\u001b[39m%s\u001b[39;00m\u001b[39m cannot have a control\u001b[39m\u001b[39m\"\u001b[39m \u001b[39m%\u001b[39m name)\n",
      "\u001b[1;31mValueError\u001b[0m: Gate SNOT requires one target"
     ]
    }
   ],
   "source": [
    "groverCirc = circuit.QubitCircuit(4, reverse_states=False)\n",
    "groverCirc.add_gate(\"H\", targets=[0,1,2,3])\n",
    "groverCirc.add_gate(\"X\", targets=[0])\n",
    "groverCirc.add_gate(\"SNOT\", targets=[0,1,2,3])\n",
    "print(q)\n",
    "rx(pi)"
   ]
  }
 ],
 "metadata": {
  "interpreter": {
   "hash": "ba00f4f09fd685ca90d1e05915d89312cad98c4ef7f6e546727455743ebf6d47"
  },
  "kernelspec": {
   "display_name": "Python 3.10.2 ('phys8905')",
   "language": "python",
   "name": "python3"
  },
  "language_info": {
   "codemirror_mode": {
    "name": "ipython",
    "version": 3
   },
   "file_extension": ".py",
   "mimetype": "text/x-python",
   "name": "python",
   "nbconvert_exporter": "python",
   "pygments_lexer": "ipython3",
   "version": "3.10.2"
  },
  "orig_nbformat": 4
 },
 "nbformat": 4,
 "nbformat_minor": 2
}
